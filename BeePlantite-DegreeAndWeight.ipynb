{
 "cells": [
  {
   "cell_type": "markdown",
   "metadata": {},
   "source": [
    "load network\n"
   ]
  },
  {
   "cell_type": "code",
   "execution_count": 1,
   "metadata": {
    "collapsed": false
   },
   "outputs": [],
   "source": [
    "import numpy as np\n",
    "import pandas as pd\n",
    "import networkx as nx\n",
    "import matplotlib.pyplot as plt\n",
    "from os import listdir\n",
    "from matplotlib_venn import venn2, venn3\n",
    "#pd.read_csv('data/matrix/'+netfile, index_col=0)"
   ]
  },
  {
   "cell_type": "code",
   "execution_count": 2,
   "metadata": {
    "collapsed": false
   },
   "outputs": [],
   "source": [
    "def get_graph(netfile, path='data/matrix/'):\n",
    "    G = nx.Graph()\n",
    "    with open(path+netfile) as f:\n",
    "        plants = []\n",
    "        insects = f.readline()[1:].strip().split(',')\n",
    "        G.add_nodes_from(insects, bipartite=0)\n",
    "        for line in f.readlines():\n",
    "            line = line.strip().split(',')\n",
    "            plant = line.pop(0)\n",
    "            plants.append(plant)\n",
    "            G.add_node(plant, bipartite=1)\n",
    "            #print plant, line\n",
    "            for i in range(len(line)):\n",
    "                if line[i]!='0': G.add_edge(insects[i], plant, weight=int(line[i]))\n",
    "    return G"
   ]
  },
  {
   "cell_type": "markdown",
   "metadata": {},
   "source": [
    "Calculate the number of nodes, edges and interactions by network"
   ]
  },
  {
   "cell_type": "code",
   "execution_count": 3,
   "metadata": {},
   "outputs": [
    {
     "data": {
      "text/html": [
       "<div>\n",
       "<style scoped>\n",
       "    .dataframe tbody tr th:only-of-type {\n",
       "        vertical-align: middle;\n",
       "    }\n",
       "\n",
       "    .dataframe tbody tr th {\n",
       "        vertical-align: top;\n",
       "    }\n",
       "\n",
       "    .dataframe thead th {\n",
       "        text-align: right;\n",
       "    }\n",
       "</style>\n",
       "<table border=\"1\" class=\"dataframe\">\n",
       "  <thead>\n",
       "    <tr style=\"text-align: right;\">\n",
       "      <th></th>\n",
       "      <th>nodes</th>\n",
       "      <th>insects</th>\n",
       "      <th>plants</th>\n",
       "      <th>interactions</th>\n",
       "      <th>observations</th>\n",
       "      <th>singletons</th>\n",
       "    </tr>\n",
       "  </thead>\n",
       "  <tbody>\n",
       "    <tr>\n",
       "      <th>areanatural</th>\n",
       "      <td>193</td>\n",
       "      <td>148</td>\n",
       "      <td>45</td>\n",
       "      <td>305</td>\n",
       "      <td>527</td>\n",
       "      <td>218</td>\n",
       "    </tr>\n",
       "    <tr>\n",
       "      <th>secas</th>\n",
       "      <td>140</td>\n",
       "      <td>106</td>\n",
       "      <td>34</td>\n",
       "      <td>209</td>\n",
       "      <td>391</td>\n",
       "      <td>150</td>\n",
       "    </tr>\n",
       "    <tr>\n",
       "      <th>heladas</th>\n",
       "      <td>112</td>\n",
       "      <td>78</td>\n",
       "      <td>34</td>\n",
       "      <td>146</td>\n",
       "      <td>299</td>\n",
       "      <td>111</td>\n",
       "    </tr>\n",
       "    <tr>\n",
       "      <th>huerto</th>\n",
       "      <td>195</td>\n",
       "      <td>132</td>\n",
       "      <td>63</td>\n",
       "      <td>314</td>\n",
       "      <td>774</td>\n",
       "      <td>209</td>\n",
       "    </tr>\n",
       "    <tr>\n",
       "      <th>huerto_lluvias</th>\n",
       "      <td>108</td>\n",
       "      <td>68</td>\n",
       "      <td>40</td>\n",
       "      <td>143</td>\n",
       "      <td>335</td>\n",
       "      <td>90</td>\n",
       "    </tr>\n",
       "    <tr>\n",
       "      <th>huerto_heladas</th>\n",
       "      <td>66</td>\n",
       "      <td>42</td>\n",
       "      <td>24</td>\n",
       "      <td>84</td>\n",
       "      <td>207</td>\n",
       "      <td>60</td>\n",
       "    </tr>\n",
       "    <tr>\n",
       "      <th>areanatural_secas</th>\n",
       "      <td>78</td>\n",
       "      <td>67</td>\n",
       "      <td>11</td>\n",
       "      <td>94</td>\n",
       "      <td>159</td>\n",
       "      <td>70</td>\n",
       "    </tr>\n",
       "    <tr>\n",
       "      <th>areanatural_lluvias</th>\n",
       "      <td>107</td>\n",
       "      <td>75</td>\n",
       "      <td>32</td>\n",
       "      <td>160</td>\n",
       "      <td>276</td>\n",
       "      <td>109</td>\n",
       "    </tr>\n",
       "    <tr>\n",
       "      <th>all</th>\n",
       "      <td>310</td>\n",
       "      <td>210</td>\n",
       "      <td>100</td>\n",
       "      <td>609</td>\n",
       "      <td>1301</td>\n",
       "      <td>421</td>\n",
       "    </tr>\n",
       "    <tr>\n",
       "      <th>huerto_secas</th>\n",
       "      <td>91</td>\n",
       "      <td>67</td>\n",
       "      <td>24</td>\n",
       "      <td>117</td>\n",
       "      <td>232</td>\n",
       "      <td>83</td>\n",
       "    </tr>\n",
       "    <tr>\n",
       "      <th>areanatural_heladas</th>\n",
       "      <td>59</td>\n",
       "      <td>49</td>\n",
       "      <td>10</td>\n",
       "      <td>62</td>\n",
       "      <td>92</td>\n",
       "      <td>51</td>\n",
       "    </tr>\n",
       "    <tr>\n",
       "      <th>lluvias</th>\n",
       "      <td>185</td>\n",
       "      <td>118</td>\n",
       "      <td>67</td>\n",
       "      <td>295</td>\n",
       "      <td>611</td>\n",
       "      <td>195</td>\n",
       "    </tr>\n",
       "  </tbody>\n",
       "</table>\n",
       "</div>"
      ],
      "text/plain": [
       "                    nodes insects plants interactions observations singletons\n",
       "areanatural           193     148     45          305          527        218\n",
       "secas                 140     106     34          209          391        150\n",
       "heladas               112      78     34          146          299        111\n",
       "huerto                195     132     63          314          774        209\n",
       "huerto_lluvias        108      68     40          143          335         90\n",
       "huerto_heladas         66      42     24           84          207         60\n",
       "areanatural_secas      78      67     11           94          159         70\n",
       "areanatural_lluvias   107      75     32          160          276        109\n",
       "all                   310     210    100          609         1301        421\n",
       "huerto_secas           91      67     24          117          232         83\n",
       "areanatural_heladas    59      49     10           62           92         51\n",
       "lluvias               185     118     67          295          611        195"
      ]
     },
     "execution_count": 3,
     "metadata": {},
     "output_type": "execute_result"
    }
   ],
   "source": [
    "df = pd.DataFrame(columns=['nodes','insects','plants','interactions','observations','singletons'])\n",
    "\n",
    "for f in listdir('data/matrix/'):\n",
    "    name = f.replace('data_clean_matrix_','').replace('.csv','')\n",
    "    G = get_graph(f)\n",
    "    wei = nx.get_edge_attributes(G, 'weight').values()\n",
    "    ins = [n for n,d in G.nodes(data=True) if d['bipartite']==0]\n",
    "    pla = [n for n,d in G.nodes(data=True) if d['bipartite']==1]\n",
    "    l = [len(G.nodes()), len(ins), len(pla), \n",
    "         len(wei), sum(wei), wei.count(1)]\n",
    "    #print(l, wei)\n",
    "    df.loc[name]=l\n",
    "df"
   ]
  },
  {
   "cell_type": "markdown",
   "metadata": {},
   "source": [
    "Degree distribution"
   ]
  },
  {
   "cell_type": "code",
   "execution_count": 4,
   "metadata": {
    "collapsed": false
   },
   "outputs": [],
   "source": [
    "G = get_graph('data_clean_matrix_all.csv')\n",
    "wei = nx.get_edge_attributes(G, 'weight').values()\n",
    "ins = [n for n,d in G.nodes(data=True) if d['bipartite']==0]\n",
    "pla = [n for n,d in G.nodes(data=True) if d['bipartite']==1]"
   ]
  },
  {
   "cell_type": "code",
   "execution_count": 5,
   "metadata": {},
   "outputs": [
    {
     "name": "stdout",
     "output_type": "stream",
     "text": [
      "insects 6.195 30.554\n",
      " !apimel 4.12 5.771\n",
      "{1: 86, 2: 40, 3: 22, 4: 15, 5: 7, 6: 6, 7: 4, 8: 4, 9: 1, 10: 4, 11: 4, 12: 1, 16: 2, 17: 1, 19: 2, 20: 3, 21: 1, 22: 2, 23: 1, 31: 1, 32: 1, 35: 1}\n",
      "plants 6.09 6.754\n",
      "{1: 26, 2: 5, 3: 15, 4: 10, 5: 9, 6: 4, 7: 6, 8: 5, 9: 3, 42: 1, 11: 1, 12: 2, 13: 2, 15: 1, 16: 2, 17: 3, 20: 1, 24: 1, 27: 1, 28: 1, 10: 1}\n"
     ]
    },
    {
     "data": {
      "image/png": "[encoded data removed]",
      "text/plain": [
       "<Figure size 432x288 with 2 Axes>"
      ]
     },
     "metadata": {},
     "output_type": "display_data"
    }
   ],
   "source": [
    "i_degree = sorted([w for i,w in G.degree(ins, weight='weight')], reverse=True)\n",
    "print 'insects', np.round(np.mean(i_degree),3), np.round(np.std(i_degree),3)\n",
    "i_degree = i_degree[1:] #remove apimel\n",
    "print ' !apimel', np.round(np.mean(i_degree),3), np.round(np.std(i_degree),3)\n",
    "i_degree = {i:i_degree.count(i) for i in set(i_degree)}\n",
    "print i_degree\n",
    "\n",
    "plt.subplot(121)\n",
    "plt.plot(i_degree.keys(), i_degree.values(), 'o')\n",
    "plt.yscale('log')\n",
    "plt.title('insects degree')\n",
    "\n",
    "i_degree = sorted([w for i,w in G.degree(pla)], reverse=True)\n",
    "print 'plants', np.round(np.mean(i_degree),3), np.round(np.std(i_degree),3)\n",
    "i_degree = {i:i_degree.count(i) for i in set(i_degree)}\n",
    "print i_degree\n",
    "\n",
    "plt.subplot(122)\n",
    "plt.plot(i_degree.keys(), i_degree.values(), 'o')\n",
    "plt.yscale('log')\n",
    "plt.title('plants degree')\n",
    "\n",
    "plt.show()"
   ]
  },
  {
   "cell_type": "code",
   "execution_count": 6,
   "metadata": {
    "collapsed": false
   },
   "outputs": [
    {
     "name": "stdout",
     "output_type": "stream",
     "text": [
      "apiel 52 440 8.461538461538462\n"
     ]
    },
    {
     "data": {
      "image/png": "[encoded data removed]",
      "text/plain": [
       "<Figure size 432x288 with 1 Axes>"
      ]
     },
     "metadata": {},
     "output_type": "display_data"
    }
   ],
   "source": [
    "apimel_edges = G.edges(['apimel'], data=True)\n",
    "apimel_edges = sorted([e[2].values()[0] for e in apimel_edges])\n",
    "#for i in set(apimel_edges): print i, apimel_edges.count(i)\n",
    "print 'apiel', len(apimel_edges), sum(apimel_edges), np.mean(apimel_edges)\n",
    "\n",
    "plt.plot(apimel_edges[::-1], 'o')\n",
    "plt.title('apimel edges weight')\n",
    "plt.show()"
   ]
  },
  {
   "cell_type": "markdown",
   "metadata": {},
   "source": [
    "Edges in different seasons"
   ]
  },
  {
   "cell_type": "code",
   "execution_count": 7,
   "metadata": {},
   "outputs": [
    {
     "data": {
      "text/plain": [
       "['huerto_heladas',\n",
       " 'all',\n",
       " 'heladas',\n",
       " 'huerto_secas',\n",
       " 'huerto',\n",
       " 'huerto_lluvias',\n",
       " 'lluvias',\n",
       " 'areanatural_heladas',\n",
       " 'areanatural_secas',\n",
       " 'secas',\n",
       " 'areanatural',\n",
       " 'areanatural_lluvias']"
      ]
     },
     "execution_count": 7,
     "metadata": {},
     "output_type": "execute_result"
    }
   ],
   "source": [
    "edges = {}\n",
    "for f in listdir('data/matrix/'):\n",
    "    name = f.replace('data_clean_matrix_','').replace('.csv','')\n",
    "    G = get_graph(f)\n",
    "    edges[name] = set(['-'.join(sorted(e)) for e in  G.edges() ])\n",
    "    #print(name, len(edges[name]))\n",
    "edges.keys()\n"
   ]
  },
  {
   "cell_type": "code",
   "execution_count": 8,
   "metadata": {},
   "outputs": [
    {
     "name": "stdout",
     "output_type": "stream",
     "text": [
      "609\n"
     ]
    },
    {
     "data": {
      "image/png": "[encoded data removed]",
      "text/plain": [
       "<Figure size 432x288 with 1 Axes>"
      ]
     },
     "metadata": {},
     "output_type": "display_data"
    },
    {
     "data": {
      "image/png": "[encoded data removed]",
      "text/plain": [
       "<Figure size 432x288 with 1 Axes>"
      ]
     },
     "metadata": {},
     "output_type": "display_data"
    }
   ],
   "source": [
    "print len(edges['all'])\n",
    "labels = ['areanatural','huerto']\n",
    "data = [edges[l] for l in labels]\n",
    "venn2(data, set_labels=labels)\n",
    "plt.show()\n",
    "\n",
    "labels = ['secas','lluvias','heladas']\n",
    "data = [edges[l] for l in labels]\n",
    "venn3(data, set_labels=labels)\n",
    "plt.show()"
   ]
  },
  {
   "cell_type": "code",
   "execution_count": null,
   "metadata": {},
   "outputs": [],
   "source": []
  }
 ],
 "metadata": {
  "kernelspec": {
   "display_name": "Python 3",
   "language": "python",
   "name": "python3"
  },
  "language_info": {
   "codemirror_mode": {
    "name": "ipython",
    "version": 3
   },
   "file_extension": ".py",
   "mimetype": "text/x-python",
   "name": "python",
   "nbconvert_exporter": "python",
   "pygments_lexer": "ipython3",
   "version": "3.6.8"
  }
 },
 "nbformat": 4,
 "nbformat_minor": 2
}
